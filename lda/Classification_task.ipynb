{
 "cells": [
  {
   "cell_type": "code",
   "execution_count": 1,
   "metadata": {},
   "outputs": [],
   "source": [
    "from scipy import sparse\n",
    "import numpy as np\n",
    "import json\n",
    "from scipy.sparse import vstack"
   ]
  },
  {
   "cell_type": "code",
   "execution_count": 2,
   "metadata": {},
   "outputs": [],
   "source": [
    "c3rLDA_nzwc = np.load(\"./model_persistence/all_eths_less_than_15000_1000_its_25_topics/nzwc_ORIGINAL.npy\")"
   ]
  },
  {
   "cell_type": "code",
   "execution_count": 3,
   "metadata": {},
   "outputs": [
    {
     "data": {
      "text/plain": [
       "(25, 822218, 28)"
      ]
     },
     "execution_count": 3,
     "metadata": {},
     "output_type": "execute_result"
    }
   ],
   "source": [
    "c3rLDA_nzwc.shape"
   ]
  },
  {
   "cell_type": "code",
   "execution_count": 3,
   "metadata": {},
   "outputs": [],
   "source": [
    "c3rLDA_nwc = np.sum(c3rLDA_nzwc, axis=0)"
   ]
  },
  {
   "cell_type": "code",
   "execution_count": 4,
   "metadata": {},
   "outputs": [
    {
     "data": {
      "text/plain": [
       "(822218, 28)"
      ]
     },
     "execution_count": 4,
     "metadata": {},
     "output_type": "execute_result"
    }
   ],
   "source": [
    "c3rLDA_nwc.shape"
   ]
  },
  {
   "cell_type": "code",
   "execution_count": 26,
   "metadata": {},
   "outputs": [],
   "source": [
    "c3rLDA_nwc = (c3rLDA_nwc + .01).astype(float)\n",
    "c3rLDA_nwc /= np.sum(c3rLDA_nwc, axis=0)[np.newaxis, :]"
   ]
  },
  {
   "cell_type": "code",
   "execution_count": 38,
   "metadata": {},
   "outputs": [],
   "source": [
    "mex_fre_nwc = c3rLDA_nwc[:, (18 ,25)]"
   ]
  },
  {
   "cell_type": "code",
   "execution_count": 9,
   "metadata": {},
   "outputs": [
    {
     "data": {
      "text/plain": [
       "(822218, 2)"
      ]
     },
     "execution_count": 9,
     "metadata": {},
     "output_type": "execute_result"
    }
   ],
   "source": [
    "mex_fre_nwc.shape"
   ]
  },
  {
   "cell_type": "code",
   "execution_count": 39,
   "metadata": {},
   "outputs": [],
   "source": [
    "mex_fre_nwc = (mex_fre_nwc + .01).astype(float)\n",
    "mex_fre_nwc /= np.sum(mex_fre_nwc, axis=0)[np.newaxis, :]"
   ]
  },
  {
   "cell_type": "markdown",
   "metadata": {},
   "source": [
    "## Find locations"
   ]
  },
  {
   "cell_type": "code",
   "execution_count": 5,
   "metadata": {},
   "outputs": [],
   "source": [
    "X_val = sparse.load_npz('/Users/tingchen/Desktop/Yelp Project/data_n_20_removed_all_eths_less_than_15000/X_val.npz')\n",
    "cc_val= np.load(\"/Users/tingchen/Desktop/Yelp Project/data_n_20_removed_all_eths_less_than_15000/y_val.npy\")\n",
    "locs_val = []\n",
    "with open(\"/Users/tingchen/Desktop/Yelp Project/data_n_20_removed_all_eths_less_than_15000/locs_val.json\", 'r') as file:\n",
    "    locs_val = json.load(file)"
   ]
  },
  {
   "cell_type": "code",
   "execution_count": 6,
   "metadata": {},
   "outputs": [],
   "source": [
    "X_test = sparse.load_npz('/Users/tingchen/Desktop/Yelp Project/data_n_20_removed_all_eths_less_than_15000/X_test.npz')\n",
    "cc_test= np.load(\"/Users/tingchen/Desktop/Yelp Project/data_n_20_removed_all_eths_less_than_15000/y_test.npy\")\n",
    "locs_test = []\n",
    "with open(\"/Users/tingchen/Desktop/Yelp Project/data_n_20_removed_all_eths_less_than_15000/locs_test.json\", 'r') as file:\n",
    "    locs_test = json.load(file)"
   ]
  },
  {
   "cell_type": "code",
   "execution_count": 7,
   "metadata": {},
   "outputs": [],
   "source": [
    "total_X = sparse.vstack([X_val, X_test])\n",
    "total_c = np.concatenate((cc_val, cc_test))\n",
    "total_locs = locs_val + locs_test"
   ]
  },
  {
   "cell_type": "code",
   "execution_count": 8,
   "metadata": {},
   "outputs": [],
   "source": [
    "ix = total_X.getnnz(1)>0\n",
    "total_X = total_X[ix]\n",
    "total_c= total_c[ix]\n",
    "total_locs= np.array(total_locs)[ix]"
   ]
  },
  {
   "cell_type": "code",
   "execution_count": 9,
   "metadata": {},
   "outputs": [
    {
     "data": {
      "text/plain": [
       "(1430699,)"
      ]
     },
     "execution_count": 9,
     "metadata": {},
     "output_type": "execute_result"
    }
   ],
   "source": [
    "total_c.shape"
   ]
  },
  {
   "cell_type": "code",
   "execution_count": 10,
   "metadata": {},
   "outputs": [
    {
     "data": {
      "text/plain": [
       "<1430699x822218 sparse matrix of type '<class 'numpy.float64'>'\n",
       "\twith 64269838 stored elements in Compressed Sparse Row format>"
      ]
     },
     "execution_count": 10,
     "metadata": {},
     "output_type": "execute_result"
    }
   ],
   "source": [
    "total_X"
   ]
  },
  {
   "cell_type": "code",
   "execution_count": 17,
   "metadata": {},
   "outputs": [
    {
     "data": {
      "text/plain": [
       "(1430699, 2)"
      ]
     },
     "execution_count": 17,
     "metadata": {},
     "output_type": "execute_result"
    }
   ],
   "source": [
    "total_locs.shape"
   ]
  },
  {
   "cell_type": "code",
   "execution_count": 44,
   "metadata": {},
   "outputs": [],
   "source": [
    "sw_us_coords = ((36.377, -118.072), (30.687, -105.051))\n",
    "se_ca_coords = ((47.020, -81.473), (42.825, -72.608))\n",
    "\n",
    "sw_us_ids = []\n",
    "se_ca_ids = []\n",
    "\n",
    "for i in range(total_locs.shape[0]):\n",
    "\n",
    "    \n",
    "    loc_x = total_locs[i, 0]\n",
    "    loc_y = total_locs[i, 1]\n",
    "    \n",
    "    if ((loc_x < sw_us_coords[0][0]) and (loc_x > sw_us_coords[1][0])):\n",
    "\n",
    "        if (loc_y > sw_us_coords[0][1] and loc_y < sw_us_coords[1][1]):\n",
    "            \n",
    "            sw_us_ids.append(i)\n",
    "            \n",
    "    if (loc_x < se_ca_coords[0][0] and loc_x > se_ca_coords[1][0]):\n",
    "        if (loc_y > se_ca_coords[0][1] and loc_y < se_ca_coords[1][1]):\n",
    "            se_ca_ids.append(i)"
   ]
  },
  {
   "cell_type": "code",
   "execution_count": 30,
   "metadata": {},
   "outputs": [
    {
     "data": {
      "text/plain": [
       "224230"
      ]
     },
     "execution_count": 30,
     "metadata": {},
     "output_type": "execute_result"
    }
   ],
   "source": [
    "len(se_ca_ids)"
   ]
  },
  {
   "cell_type": "code",
   "execution_count": 45,
   "metadata": {},
   "outputs": [],
   "source": [
    "sw_us_X = total_X[sw_us_ids]\n",
    "se_ca_X = total_X[se_ca_ids]\n",
    "se_ca_c = total_c[se_ca_ids]\n",
    "sw_us_c = total_c[sw_us_ids]"
   ]
  },
  {
   "cell_type": "code",
   "execution_count": 46,
   "metadata": {},
   "outputs": [],
   "source": [
    "sw_us_reviews = [[]  for i in range(28)]\n",
    "se_ca_reviews = [[]  for i in range(28)]"
   ]
  },
  {
   "cell_type": "code",
   "execution_count": 47,
   "metadata": {},
   "outputs": [],
   "source": [
    "for i in range(se_ca_c.shape[0]):\n",
    "    se_ca_reviews[se_ca_c[i]].append(se_ca_X[i])"
   ]
  },
  {
   "cell_type": "code",
   "execution_count": 40,
   "metadata": {
    "scrolled": true
   },
   "outputs": [
    {
     "name": "stdout",
     "output_type": "stream",
     "text": [
      "27824\n",
      "28014\n",
      "8998\n",
      "590\n",
      "19907\n",
      "743\n",
      "1444\n",
      "483\n",
      "3348\n",
      "4188\n",
      "15855\n",
      "26125\n",
      "3480\n",
      "1109\n",
      "9965\n",
      "11826\n",
      "10326\n",
      "1274\n",
      "8937\n",
      "1360\n",
      "9947\n",
      "1476\n",
      "3047\n",
      "811\n",
      "8182\n",
      "12073\n",
      "1124\n",
      "1774\n"
     ]
    }
   ],
   "source": [
    "for i in range(28):\n",
    "    print(len(se_ca_reviews[i]))"
   ]
  },
  {
   "cell_type": "code",
   "execution_count": 48,
   "metadata": {},
   "outputs": [],
   "source": [
    "for i in range(sw_us_c.shape[0]):\n",
    "    sw_us_reviews[sw_us_c[i]].append(sw_us_X[i])"
   ]
  },
  {
   "cell_type": "code",
   "execution_count": 42,
   "metadata": {
    "scrolled": true
   },
   "outputs": [
    {
     "name": "stdout",
     "output_type": "stream",
     "text": [
      "0\n",
      "70531\n",
      "11410\n",
      "4989\n",
      "92243\n",
      "15548\n",
      "5740\n",
      "5110\n",
      "4224\n",
      "16716\n",
      "184713\n",
      "51960\n",
      "5022\n",
      "3915\n",
      "11319\n",
      "184343\n",
      "20841\n",
      "2292\n",
      "114459\n",
      "10009\n",
      "27941\n",
      "14180\n",
      "3302\n",
      "1813\n",
      "18271\n",
      "17472\n",
      "4677\n",
      "5084\n"
     ]
    }
   ],
   "source": [
    "for i in range(28):\n",
    "    print(len(sw_us_reviews[i]))"
   ]
  },
  {
   "cell_type": "markdown",
   "metadata": {},
   "source": [
    "## Calculate Scores"
   ]
  },
  {
   "cell_type": "code",
   "execution_count": 16,
   "metadata": {},
   "outputs": [],
   "source": [
    "table_sw_us = [sw_us_reviews[6], sw_us_reviews[16], sw_us_reviews[1], sw_us_reviews[8], sw_us_reviews[9]]"
   ]
  },
  {
   "cell_type": "code",
   "execution_count": 17,
   "metadata": {},
   "outputs": [],
   "source": [
    "table_se_ca = [se_ca_reviews[6], se_ca_reviews[16], se_ca_reviews[1], se_ca_reviews[8], se_ca_reviews[9]]"
   ]
  },
  {
   "cell_type": "code",
   "execution_count": 9,
   "metadata": {},
   "outputs": [],
   "source": [
    "from numpy import ma"
   ]
  },
  {
   "cell_type": "code",
   "execution_count": null,
   "metadata": {
    "scrolled": true
   },
   "outputs": [
    {
     "name": "stdout",
     "output_type": "stream",
     "text": [
      "Review 1000"
     ]
    }
   ],
   "source": [
    "table_sw_us_scores = []\n",
    "table_se_ca_scores = []\n",
    "\n",
    "for i, cuisine in enumerate(table_sw_us_arr):\n",
    "    cuisine_score = []\n",
    "    print(\"\\rCuisine {}\".format(i), end=\"\")\n",
    "    for j, review in enumerate(cuisine):\n",
    "        if j % 1000 == 0:\n",
    "            print(\"\\rReview {}\".format(j), end=\"\")\n",
    "        mex_score = np.sum(ma.log(np.multiply(review, mex_fre_nwc[:, 0])).filled(0))\n",
    "        fre_score = np.sum(ma.log(np.multiply(review, mex_fre_nwc[:, 1])).filled(0))\n",
    "        #print((mex_score, fre_score))\n",
    "        cuisine_score.append((mex_score, fre_score))\n",
    "    table_sw_us_scores.append(cuisine_score) "
   ]
  },
  {
   "cell_type": "markdown",
   "metadata": {},
   "source": [
    "#### classification with argmax of probs"
   ]
  },
  {
   "cell_type": "code",
   "execution_count": 14,
   "metadata": {},
   "outputs": [
    {
     "data": {
      "text/plain": [
       "(822218, 28)"
      ]
     },
     "execution_count": 14,
     "metadata": {},
     "output_type": "execute_result"
    }
   ],
   "source": [
    "c3rLDA_nwc.shape"
   ]
  },
  {
   "cell_type": "code",
   "execution_count": 37,
   "metadata": {},
   "outputs": [],
   "source": [
    "log_c3rLDA_nwc = np.log(c3rLDA_nwc)"
   ]
  },
  {
   "cell_type": "code",
   "execution_count": 62,
   "metadata": {},
   "outputs": [
    {
     "data": {
      "text/plain": [
       "1"
      ]
     },
     "execution_count": 62,
     "metadata": {},
     "output_type": "execute_result"
    }
   ],
   "source": [
    "np.argmax(np.dot(total_X[999].toarray(), log_c3rLDA_nwc))"
   ]
  },
  {
   "cell_type": "code",
   "execution_count": 64,
   "metadata": {},
   "outputs": [
    {
     "data": {
      "text/plain": [
       "array([[-1367.78952749, -1163.52214182, -1389.81801638, -1337.20034183,\n",
       "        -1223.85133471, -1339.31885872, -1366.92590663, -1341.83149205,\n",
       "        -1344.46892516, -1397.14703977, -1278.80212285, -1228.42036496,\n",
       "        -1376.48267479, -1304.25783284, -1334.47585088, -1287.46508567,\n",
       "        -1312.65399171, -1322.79921622, -1277.02305248, -1396.7396324 ,\n",
       "        -1324.88404994, -1355.117783  , -1308.36938678, -1316.14699459,\n",
       "        -1309.42814554, -1398.87291533, -1323.86901126, -1335.45411868]])"
      ]
     },
     "execution_count": 64,
     "metadata": {},
     "output_type": "execute_result"
    }
   ],
   "source": [
    "np.dot(total_X[999].toarray(), log_c3rLDA_nwc)"
   ]
  },
  {
   "cell_type": "code",
   "execution_count": 66,
   "metadata": {},
   "outputs": [
    {
     "data": {
      "text/plain": [
       "11"
      ]
     },
     "execution_count": 66,
     "metadata": {},
     "output_type": "execute_result"
    }
   ],
   "source": [
    "total_c[999]"
   ]
  },
  {
   "cell_type": "code",
   "execution_count": 67,
   "metadata": {},
   "outputs": [
    {
     "name": "stdout",
     "output_type": "stream",
     "text": [
      "Review 9000"
     ]
    }
   ],
   "source": [
    "#cuisine_scores = np.empty((total_X.shape[0], c3rLDA_nwc.shape[1]))\n",
    "predictions = np.empty((10001, ))\n",
    "\n",
    "for j, review in enumerate(total_X[:10000]):\n",
    "    if j % 1000 == 0:\n",
    "        print(\"\\rReview {}\".format(j), end=\"\")\n",
    "    \n",
    "    predictions[j] = np.argmax(np.dot(total_X[j].toarray(), log_c3rLDA_nwc))"
   ]
  },
  {
   "cell_type": "code",
   "execution_count": 68,
   "metadata": {},
   "outputs": [],
   "source": [
    "from sklearn.metrics import classification_report"
   ]
  },
  {
   "cell_type": "code",
   "execution_count": 78,
   "metadata": {
    "scrolled": false
   },
   "outputs": [
    {
     "name": "stdout",
     "output_type": "stream",
     "text": [
      "              precision    recall  f1-score   support\n",
      "\n",
      "           0       0.20      0.01      0.02       228\n",
      "           1       0.28      0.74      0.41       837\n",
      "           2       0.39      0.12      0.18       170\n",
      "           3       0.12      0.04      0.06        48\n",
      "           4       0.31      0.75      0.44       980\n",
      "           5       0.40      0.04      0.07       111\n",
      "           6       0.20      0.04      0.06        52\n",
      "           7       0.29      0.04      0.08        45\n",
      "           8       0.17      0.03      0.05        61\n",
      "           9       0.21      0.02      0.03       190\n",
      "          10       0.46      0.05      0.09      1878\n",
      "          11       0.41      0.25      0.31       678\n",
      "          12       0.40      0.03      0.05        75\n",
      "          13       0.10      0.09      0.09        56\n",
      "          14       0.54      0.44      0.48       173\n",
      "          15       0.37      0.06      0.11      1843\n",
      "          16       0.40      0.06      0.11       229\n",
      "          17       0.18      0.09      0.12        35\n",
      "          18       0.24      0.88      0.38      1077\n",
      "          19       0.40      0.11      0.18        87\n",
      "          20       0.52      0.19      0.27       331\n",
      "          21       0.25      0.01      0.01       142\n",
      "          22       0.50      0.08      0.14        51\n",
      "          23       0.40      0.11      0.17        37\n",
      "          24       0.68      0.18      0.28       253\n",
      "          25       0.41      0.05      0.08       239\n",
      "          26       0.46      0.16      0.24        38\n",
      "          27       0.36      0.07      0.12        56\n",
      "\n",
      "    accuracy                           0.30     10000\n",
      "   macro avg       0.35      0.17      0.17     10000\n",
      "weighted avg       0.37      0.30      0.22     10000\n",
      "\n"
     ]
    }
   ],
   "source": [
    "print(classification_report(total_c[:10000], predictions[:10000]))"
   ]
  },
  {
   "cell_type": "markdown",
   "metadata": {},
   "source": [
    "#### classification for lda"
   ]
  },
  {
   "cell_type": "code",
   "execution_count": null,
   "metadata": {},
   "outputs": [],
   "source": [
    "from tqdm import tqdm\n",
    "from sklearn.decomposition"
   ]
  },
  {
   "cell_type": "code",
   "execution_count": null,
   "metadata": {},
   "outputs": [],
   "source": [
    "cuisine_scores = []\n",
    "\n",
    "\n",
    "for j, review in enumerate(total_X):\n",
    "    if j % 1000 == 0:\n",
    "        print(\"\\rReview {}\".format(j), end=\"\")\n",
    "    \n",
    "    mex_score = np.sum(ma.log(np.multiply(review, mex_fre_nwc[:, 0])).filled(0))\n",
    "    fre_score = np.sum(ma.log(np.multiply(review, mex_fre_nwc[:, 1])).filled(0))\n",
    "    #print((mex_score, fre_score))\n",
    "    cuisine_score.append((mex_score, fre_score))"
   ]
  },
  {
   "cell_type": "code",
   "execution_count": 21,
   "metadata": {},
   "outputs": [],
   "source": [
    "base = sparse.load_npz(\"se_ca_table_4_base.npz\")"
   ]
  },
  {
   "cell_type": "code",
   "execution_count": 20,
   "metadata": {},
   "outputs": [],
   "source": [
    "del base"
   ]
  },
  {
   "cell_type": "code",
   "execution_count": 21,
   "metadata": {},
   "outputs": [],
   "source": [
    "base = base[:5000]"
   ]
  },
  {
   "cell_type": "code",
   "execution_count": 22,
   "metadata": {},
   "outputs": [
    {
     "data": {
      "text/plain": [
       "(4188, 822218)"
      ]
     },
     "execution_count": 22,
     "metadata": {},
     "output_type": "execute_result"
    }
   ],
   "source": [
    "base.shape"
   ]
  },
  {
   "cell_type": "code",
   "execution_count": 53,
   "metadata": {},
   "outputs": [],
   "source": [
    "a = np.array(cuisine_score)"
   ]
  },
  {
   "cell_type": "code",
   "execution_count": 54,
   "metadata": {},
   "outputs": [
    {
     "data": {
      "text/plain": [
       "(5000, 2)"
      ]
     },
     "execution_count": 54,
     "metadata": {},
     "output_type": "execute_result"
    }
   ],
   "source": [
    "a.shape"
   ]
  },
  {
   "cell_type": "code",
   "execution_count": 49,
   "metadata": {},
   "outputs": [
    {
     "data": {
      "text/plain": [
       "12073"
      ]
     },
     "execution_count": 49,
     "metadata": {},
     "output_type": "execute_result"
    }
   ],
   "source": [
    "len(se_ca_reviews[25])"
   ]
  },
  {
   "cell_type": "code",
   "execution_count": 55,
   "metadata": {},
   "outputs": [],
   "source": [
    "np.save(\"french_se_ca_scores\", a)"
   ]
  },
  {
   "cell_type": "code",
   "execution_count": 50,
   "metadata": {},
   "outputs": [],
   "source": [
    "base = se_ca_reviews[25][0]\n",
    "    \n",
    "for j in range(1, 5000):\n",
    "    base = vstack((base, se_ca_reviews[25][j]))\n",
    "    \n"
   ]
  },
  {
   "cell_type": "code",
   "execution_count": 40,
   "metadata": {},
   "outputs": [],
   "source": [
    "sparse.save_npz(\"se_ca_table_4_base\", base)"
   ]
  },
  {
   "cell_type": "markdown",
   "metadata": {},
   "source": [
    "## Do classification"
   ]
  },
  {
   "cell_type": "markdown",
   "metadata": {},
   "source": [
    "Spanish"
   ]
  },
  {
   "cell_type": "code",
   "execution_count": 3,
   "metadata": {},
   "outputs": [],
   "source": [
    "se_ca_spanish = np.load(\"se_ca_table_0_scores.npy\")"
   ]
  },
  {
   "cell_type": "code",
   "execution_count": 4,
   "metadata": {},
   "outputs": [],
   "source": [
    "sw_us_spanish = np.load(\"sw_us_table_0_scores.npy\")"
   ]
  },
  {
   "cell_type": "markdown",
   "metadata": {},
   "source": [
    "accuracy: sw us"
   ]
  },
  {
   "cell_type": "code",
   "execution_count": 17,
   "metadata": {},
   "outputs": [
    {
     "data": {
      "text/plain": [
       "0.9625435540069687"
      ]
     },
     "execution_count": 17,
     "metadata": {},
     "output_type": "execute_result"
    }
   ],
   "source": [
    "1- np.sum(np.argmax(sw_us_spanish, axis = 1))/(sw_us_spanish.shape[0]) "
   ]
  },
  {
   "cell_type": "markdown",
   "metadata": {},
   "source": [
    "accuracy: se ca"
   ]
  },
  {
   "cell_type": "code",
   "execution_count": 18,
   "metadata": {},
   "outputs": [
    {
     "data": {
      "text/plain": [
       "0.036011080332409975"
      ]
     },
     "execution_count": 18,
     "metadata": {},
     "output_type": "execute_result"
    }
   ],
   "source": [
    "np.sum(np.argmax(se_ca_spanish, axis = 1))/(se_ca_spanish.shape[0]) "
   ]
  },
  {
   "cell_type": "code",
   "execution_count": 19,
   "metadata": {},
   "outputs": [
    {
     "data": {
      "text/plain": [
       "array([[ -275.05400213,  -300.73056878],\n",
       "       [-1409.09605489, -1559.17627142],\n",
       "       [-1808.99069334, -1963.86928774],\n",
       "       ...,\n",
       "       [  -75.11933912,   -78.52224607],\n",
       "       [ -483.49001211,  -578.20599238],\n",
       "       [ -647.26729799,  -764.20238547]])"
      ]
     },
     "execution_count": 19,
     "metadata": {},
     "output_type": "execute_result"
    }
   ],
   "source": [
    "se_ca_spanish"
   ]
  },
  {
   "cell_type": "markdown",
   "metadata": {},
   "source": [
    "Korean"
   ]
  },
  {
   "cell_type": "code",
   "execution_count": 20,
   "metadata": {},
   "outputs": [],
   "source": [
    "se_ca_korean = np.load(\"se_ca_table_1_scores.npy\")\n",
    "sw_us_korean = np.load(\"sw_us_table_1_scores.npy\")"
   ]
  },
  {
   "cell_type": "code",
   "execution_count": 21,
   "metadata": {},
   "outputs": [
    {
     "data": {
      "text/plain": [
       "0.989"
      ]
     },
     "execution_count": 21,
     "metadata": {},
     "output_type": "execute_result"
    }
   ],
   "source": [
    "1- np.sum(np.argmax(sw_us_korean, axis = 1))/(sw_us_korean.shape[0])"
   ]
  },
  {
   "cell_type": "code",
   "execution_count": 22,
   "metadata": {
    "scrolled": true
   },
   "outputs": [
    {
     "data": {
      "text/plain": [
       "0.0092"
      ]
     },
     "execution_count": 22,
     "metadata": {},
     "output_type": "execute_result"
    }
   ],
   "source": [
    "np.sum(np.argmax(se_ca_korean, axis = 1))/(se_ca_korean.shape[0]) "
   ]
  },
  {
   "cell_type": "markdown",
   "metadata": {},
   "source": [
    "Japanese"
   ]
  },
  {
   "cell_type": "code",
   "execution_count": 23,
   "metadata": {},
   "outputs": [],
   "source": [
    "se_ca_japanese = np.load(\"se_ca_table_2_scores.npy\")\n",
    "sw_us_japanese = np.load(\"sw_us_table_2_scores.npy\")"
   ]
  },
  {
   "cell_type": "code",
   "execution_count": 24,
   "metadata": {},
   "outputs": [
    {
     "data": {
      "text/plain": [
       "0.9878"
      ]
     },
     "execution_count": 24,
     "metadata": {},
     "output_type": "execute_result"
    }
   ],
   "source": [
    "1- np.sum(np.argmax(sw_us_japanese, axis = 1))/(sw_us_japanese.shape[0])"
   ]
  },
  {
   "cell_type": "code",
   "execution_count": 25,
   "metadata": {},
   "outputs": [
    {
     "data": {
      "text/plain": [
       "0.0182"
      ]
     },
     "execution_count": 25,
     "metadata": {},
     "output_type": "execute_result"
    }
   ],
   "source": [
    "np.sum(np.argmax(se_ca_japanese, axis = 1))/(se_ca_japanese.shape[0]) "
   ]
  },
  {
   "cell_type": "markdown",
   "metadata": {},
   "source": [
    "Pakistani"
   ]
  },
  {
   "cell_type": "code",
   "execution_count": 26,
   "metadata": {},
   "outputs": [],
   "source": [
    "se_ca_pakistani = np.load(\"se_ca_table_3_scores.npy\")\n",
    "sw_us_pakistani = np.load(\"sw_us_table_3_scores.npy\")"
   ]
  },
  {
   "cell_type": "code",
   "execution_count": 27,
   "metadata": {},
   "outputs": [
    {
     "data": {
      "text/plain": [
       "0.9659090909090909"
      ]
     },
     "execution_count": 27,
     "metadata": {},
     "output_type": "execute_result"
    }
   ],
   "source": [
    "1- np.sum(np.argmax(sw_us_pakistani, axis = 1))/(sw_us_pakistani.shape[0])"
   ]
  },
  {
   "cell_type": "code",
   "execution_count": 28,
   "metadata": {},
   "outputs": [
    {
     "data": {
      "text/plain": [
       "0.028076463560334528"
      ]
     },
     "execution_count": 28,
     "metadata": {},
     "output_type": "execute_result"
    }
   ],
   "source": [
    "np.sum(np.argmax(se_ca_pakistani, axis = 1))/(se_ca_pakistani.shape[0])"
   ]
  },
  {
   "cell_type": "markdown",
   "metadata": {},
   "source": [
    "Greek"
   ]
  },
  {
   "cell_type": "code",
   "execution_count": 29,
   "metadata": {},
   "outputs": [],
   "source": [
    "se_ca_greek = np.load(\"se_ca_table_4_scores.npy\")\n",
    "sw_us_greek = np.load(\"sw_us_table_4_scores.npy\")"
   ]
  },
  {
   "cell_type": "code",
   "execution_count": 30,
   "metadata": {},
   "outputs": [
    {
     "data": {
      "text/plain": [
       "0.9659090909090909"
      ]
     },
     "execution_count": 30,
     "metadata": {},
     "output_type": "execute_result"
    }
   ],
   "source": [
    "1- np.sum(np.argmax(sw_us_greek, axis = 1))/(sw_us_greek.shape[0])"
   ]
  },
  {
   "cell_type": "code",
   "execution_count": 34,
   "metadata": {},
   "outputs": [
    {
     "data": {
      "text/plain": [
       "0.026743075453677174"
      ]
     },
     "execution_count": 34,
     "metadata": {},
     "output_type": "execute_result"
    }
   ],
   "source": [
    "np.sum(np.argmax(se_ca_greek, axis = 1))/(se_ca_greek.shape[0])"
   ]
  },
  {
   "cell_type": "markdown",
   "metadata": {},
   "source": [
    "French"
   ]
  },
  {
   "cell_type": "code",
   "execution_count": 56,
   "metadata": {},
   "outputs": [
    {
     "data": {
      "text/plain": [
       "0.1618"
      ]
     },
     "execution_count": 56,
     "metadata": {},
     "output_type": "execute_result"
    }
   ],
   "source": [
    "np.sum(np.argmax(a, axis = 1))/(a.shape[0])"
   ]
  },
  {
   "cell_type": "code",
   "execution_count": 57,
   "metadata": {},
   "outputs": [
    {
     "data": {
      "text/plain": [
       "array([[ -156.78931253,  -176.60749076],\n",
       "       [ -713.8585973 ,  -724.18979282],\n",
       "       [ -378.15003511,  -387.35189877],\n",
       "       ...,\n",
       "       [-1205.74696551, -1312.31164237],\n",
       "       [ -689.85008515,  -788.3223077 ],\n",
       "       [ -395.28528203,  -405.94504872]])"
      ]
     },
     "execution_count": 57,
     "metadata": {},
     "output_type": "execute_result"
    }
   ],
   "source": [
    "a"
   ]
  }
 ],
 "metadata": {
  "kernelspec": {
   "display_name": "Python 3",
   "language": "python",
   "name": "python3"
  },
  "language_info": {
   "codemirror_mode": {
    "name": "ipython",
    "version": 3
   },
   "file_extension": ".py",
   "mimetype": "text/x-python",
   "name": "python",
   "nbconvert_exporter": "python",
   "pygments_lexer": "ipython3",
   "version": "3.7.3"
  }
 },
 "nbformat": 4,
 "nbformat_minor": 2
}
